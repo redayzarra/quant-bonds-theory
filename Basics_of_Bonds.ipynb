{
 "cells": [
  {
   "cell_type": "markdown",
   "id": "0562a532",
   "metadata": {},
   "source": [
    "# Basics - Bonds Theory"
   ]
  },
  {
   "cell_type": "markdown",
   "id": "310d00b8",
   "metadata": {},
   "source": [
    "### by ReDay Zarra"
   ]
  },
  {
   "cell_type": "markdown",
   "id": "f3f127d5",
   "metadata": {},
   "source": [
    "**Bond:** Is a debt investment where an investor loans money to a company or government for a defined period of time. The bond has a variable or fixed interest rate that make it grow over time. \n",
    "\n",
    "**Lead concept:** When companies need to raise capital, they can issue bonds to investors instead of borrowing money to banks. Interest rate of bonds are usually higher than the interest rate of banks, which makes it an attractive asset. Bonds **are a fixed-income security** meaning they pay a fixed amount of interest to investors."
   ]
  },
  {
   "cell_type": "markdown",
   "id": "52f993ec",
   "metadata": {},
   "source": [
    "## What are zero-coupon bonds?"
   ]
  },
  {
   "cell_type": "markdown",
   "id": "40b23a38",
   "metadata": {},
   "source": [
    "**Lead concept:** These bonds are sold by a company or government at a discount, so investors can buy them and make profit when the bond agreeement ends (maturity date). Zero-coupon bonds only **pay a principal amount to an investor**. No other cash payments are made to the investor meaning zero-coupon bonds **do not pay interest rates**.\n",
    "\n",
    "**Principal amount:** The amount of **money the company will owe** to investors when the bond hits the maturity date. \n",
    "\n",
    "**Premium:** This is the interest rate of bonds (coupons) and they are paid to the investor annually. Zero-coupon bonds **do not have premiums**.\n",
    "\n",
    "**Implied yield:** Represents the return an investor would earn from buying the zero-coupon bond until maturity. For example, if a zero-coupon bond is worth 750 dollars but will pay 1,000 dollars after 5 years, then we can calculate the implied yield by: \n",
    "\n",
    "> Implied Yield = [(1,000 / 750) ^ (1 / 5)] - 1\n",
    "\n",
    "> Implied Yield = (1.3333 ^ 0.2) - 1\n",
    "\n",
    "\n",
    "> Implied Yield ≈ 0.0595 or 5.95%\n",
    "\n",
    "**Market interest rates:** External factor that influences the pricing and implied yield of zero-coupon bonds in response to changes to the financial markets.\n",
    "\n",
    "**Maturity date:** The bond's expiration date where the company can **redeeem the bond by paying the principal**. "
   ]
  },
  {
   "cell_type": "markdown",
   "id": "8af5c496",
   "metadata": {},
   "source": [
    "## How much is a zero-coupon bond worth?"
   ]
  },
  {
   "cell_type": "markdown",
   "id": "6730a466",
   "metadata": {},
   "source": [
    "**Lead concept:** Since zero-coupon bonds don't pay any interest rates, we simply have to consider the market interest rates and the principal amount. As shown in the equation below, the present value of a bond can be calculated by the principal amount (x) and the market interest rate (r) given a number of years (n).\n",
    "\n",
    "$$\n",
    "Present Value = \\frac{x}{(1+r)^n}\n",
    "$$\n",
    "\n"
   ]
  },
  {
   "cell_type": "markdown",
   "id": "fa5784f1",
   "metadata": {},
   "source": [
    "## What are coupon bonds?"
   ]
  },
  {
   "cell_type": "markdown",
   "id": "f1ad42c6",
   "metadata": {},
   "source": [
    "**Lead concept:** Coupon bonds **pay an annual interest rate to the investor**. The interest rate is a **portion of the principal amount that must be paid** to the investor every year. For example, if the principal amount of a coupon bond with 10% interest rate is 1000 dollars then the investor gets paid 100 dollars every year."
   ]
  },
  {
   "cell_type": "markdown",
   "id": "86e71b8a",
   "metadata": {},
   "source": [
    "## How much is a coupon bond worth?"
   ]
  },
  {
   "cell_type": "markdown",
   "id": "77eb0548",
   "metadata": {},
   "source": [
    "**Lead concept:** We have to calculate the present value of the principal amount with market interest rates as well as annual coupon payments with market interest rates. The summation notation represents the the number of years starting from a certain year (i) going up to the total number of years (n)."
   ]
  },
  {
   "cell_type": "markdown",
   "id": "37a47e59",
   "metadata": {},
   "source": [
    "$$\n",
    "Present Value = \\sum_{i=1}^{n} \\frac{c}{(1 + r)^n} + \\frac{x}{(1 + r)^n}\n",
    "$$"
   ]
  },
  {
   "cell_type": "markdown",
   "id": "bb16e0da",
   "metadata": {},
   "source": [
    "We can simply the summation notation further with the final equation below. The price of the coupon payments (c) and the principal amount (x) are manipulated by the market interest rate (r) after a total number of years (n).\n",
    "\n",
    "$$\n",
    "Present Value = \\frac{c}{r}[1 - \\frac{1}{(1 + r)^n}] + \\frac{x}{(1 + r)^n}\n",
    "$$"
   ]
  }
 ],
 "metadata": {
  "kernelspec": {
   "display_name": "Python 3 (ipykernel)",
   "language": "python",
   "name": "python3"
  },
  "language_info": {
   "codemirror_mode": {
    "name": "ipython",
    "version": 3
   },
   "file_extension": ".py",
   "mimetype": "text/x-python",
   "name": "python",
   "nbconvert_exporter": "python",
   "pygments_lexer": "ipython3",
   "version": "3.9.13"
  }
 },
 "nbformat": 4,
 "nbformat_minor": 5
}
