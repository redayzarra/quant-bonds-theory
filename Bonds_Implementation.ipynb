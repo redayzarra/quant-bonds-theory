{
 "cells": [
  {
   "cell_type": "markdown",
   "id": "7e6a0c48",
   "metadata": {},
   "source": [
    "# Implementation - Bonds Theory"
   ]
  },
  {
   "cell_type": "markdown",
   "id": "6ea450f7",
   "metadata": {},
   "source": [
    "### by ReDay Zarra"
   ]
  },
  {
   "cell_type": "code",
   "execution_count": 14,
   "id": "d4d88a85",
   "metadata": {},
   "outputs": [
    {
     "name": "stdout",
     "output_type": "stream",
     "text": [
      "Prinicpal Amount (Dollars): 1000\n",
      "Time to Maturity (Years): 2\n",
      "Market Interest Rate (Percent): 4\n",
      "$924.56\n"
     ]
    }
   ],
   "source": [
    "class ZeroCouponBonds:\n",
    "    \n",
    "    def __init__(self, principal, maturity, interest_rate):\n",
    "        self.principal = principal # Principal amount - how much the bond issuer will repay\n",
    "        self.maturity = maturity # Time to Maturity - when the bond agreement ends in years\n",
    "        self.interest_rate = interest_rate / 100 # The market interest rate (discounting) in percent\n",
    "        \n",
    "    def present_value(self, x , n):\n",
    "        return x / (1 + self.interest_rate)**n\n",
    "    \n",
    "    def calculate_price(self):\n",
    "        return self.present_value(self.principal, self.maturity)\n",
    "    \n",
    "    if __name__ == \"__main__\":\n",
    "        \n",
    "        p = int(input(\"Prinicpal Amount (Dollars): \"))\n",
    "        m = int(input(\"Time to Maturity (Years): \"))\n",
    "        r = int(input(\"Market Interest Rate (Percent): \"))\n",
    "        \n",
    "        bond = ZeroCouponBonds(p, m, r) # Principal, maturity, interest rate\n",
    "        \n",
    "        print(\"$\" + str(round(bond.calculate_price(), 2)))\n",
    "        "
   ]
  },
  {
   "cell_type": "code",
   "execution_count": null,
   "id": "8925f31e",
   "metadata": {},
   "outputs": [],
   "source": []
  }
 ],
 "metadata": {
  "kernelspec": {
   "display_name": "Python 3 (ipykernel)",
   "language": "python",
   "name": "python3"
  },
  "language_info": {
   "codemirror_mode": {
    "name": "ipython",
    "version": 3
   },
   "file_extension": ".py",
   "mimetype": "text/x-python",
   "name": "python",
   "nbconvert_exporter": "python",
   "pygments_lexer": "ipython3",
   "version": "3.9.13"
  }
 },
 "nbformat": 4,
 "nbformat_minor": 5
}
