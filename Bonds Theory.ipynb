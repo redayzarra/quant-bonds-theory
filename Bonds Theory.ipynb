{
 "cells": [
  {
   "cell_type": "markdown",
   "id": "a9068391",
   "metadata": {},
   "source": [
    "# Bonds Theory"
   ]
  },
  {
   "cell_type": "markdown",
   "id": "d4484989",
   "metadata": {},
   "source": [
    "### by ReDay Zarra"
   ]
  },
  {
   "cell_type": "markdown",
   "id": "ba8eae62",
   "metadata": {},
   "source": [
    "**Bond:** Is a debt investment where an investor loans money to a company or government for a defined period of time. The bond has a variable or fixed interest rate that make it grow over time. \n",
    "\n",
    "**Lead concept:** When companies need to raise capital, they can issue bonds to investors instead of borrowing money to banks. Interest rate of bonds are usually higher than the interest rate of banks, which makes it an attractive asset. Bonds **are a fixed-income security** meaning they pay a fixed amount of interest to investors."
   ]
  },
  {
   "cell_type": "markdown",
   "id": "a215c0b7",
   "metadata": {},
   "source": [
    "## What are zero-coupon bonds?"
   ]
  },
  {
   "cell_type": "markdown",
   "id": "f269f015",
   "metadata": {},
   "source": [
    "**Lead concept:** These bonds are sold by a company or government at a discount, so investors can buy them and make profit when the bond agreeement ends (maturity date). Zero-coupon bonds only **pay a principal amount to an investor**. No other cash payments are made to the investor meaning zero-coupon bonds **do not pay interest rates**.\n",
    "\n",
    "**Principal amount:** The amount of **money the company is borrowing** from investors and will in full. \n",
    "\n",
    "**Premium:** This is the interest rate of bonds (coupons) and they are paid to the investor annually. Zero-coupon bonds **do not have premiums**.\n",
    "\n",
    "**Implied yield:** Represents the return an investor would earn from buying the zero-coupon bond until maturity. For example, if a zero-coupon bond is worth 750 dollars but will pay 1,000 dollars after 5 years, then we can calculate the implied yield by: \n",
    "\n",
    "\n",
    "\n",
    "> Implied Yield = [(1,000 / 750) ^ (1 / 5)] - 1\n",
    "\n",
    "> Implied Yield = (1.3333 ^ 0.2) - 1\n",
    "\n",
    "> Implied Yield ≈ 1.0595 - 1\n",
    "\n",
    " Implied Yield ≈ 0.0595\n",
    "\n",
    "\n",
    "\n",
    "**Maturity date:** The bond's expiration date where the company can **redeeem the bond by paying the principal**. "
   ]
  }
 ],
 "metadata": {
  "kernelspec": {
   "display_name": "Python 3 (ipykernel)",
   "language": "python",
   "name": "python3"
  },
  "language_info": {
   "codemirror_mode": {
    "name": "ipython",
    "version": 3
   },
   "file_extension": ".py",
   "mimetype": "text/x-python",
   "name": "python",
   "nbconvert_exporter": "python",
   "pygments_lexer": "ipython3",
   "version": "3.9.13"
  }
 },
 "nbformat": 4,
 "nbformat_minor": 5
}
