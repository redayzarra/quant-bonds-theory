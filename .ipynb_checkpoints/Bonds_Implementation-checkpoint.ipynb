{
 "cells": [
  {
   "cell_type": "markdown",
   "id": "d788473e",
   "metadata": {},
   "source": [
    "# Implementation - Bonds Theory"
   ]
  },
  {
   "cell_type": "markdown",
   "id": "6ea450f7",
   "metadata": {},
   "source": [
    "### by ReDay Zarra"
   ]
  },
  {
   "cell_type": "markdown",
   "id": "a16fee73",
   "metadata": {},
   "source": [
    "In this project, I will implement a bond pricer in Python for zero-coupon and coupon bonds. The goal of this project is to provide a tool that can be used by investors, financial analysts, and other professionals to analyze bond investments and make informed decisions. The bond pricer will take into account various factors such as the bond's face value, purchase price, coupon rate, time to maturity, and market interest rates to determine the bond's value."
   ]
  },
  {
   "cell_type": "markdown",
   "id": "287991d1",
   "metadata": {},
   "source": [
    "## Zero-Coupon Bonds - Discrete Model"
   ]
  },
  {
   "cell_type": "code",
   "execution_count": 32,
   "id": "d4d88a85",
   "metadata": {},
   "outputs": [
    {
     "name": "stdout",
     "output_type": "stream",
     "text": [
      "Prinicpal Amount (Dollars): 1000\n",
      "Time to Maturity (Years): 10\n",
      "Market Interest Rate (Percent): 3\n",
      "Price of the Bond: $744.09\n"
     ]
    }
   ],
   "source": [
    "class ZeroCouponBonds:\n",
    "    \n",
    "    \n",
    "    def __init__(self, principal, maturity, market_rate):\n",
    "        self.principal = principal # Principal amount - how much the bond issuer will repay\n",
    "        self.maturity = maturity # Time to Maturity - when the bond agreement ends in years\n",
    "        self.market_rate = market_rate / 100 # Market interest rate (discounting) in percent\n",
    "        \n",
    "    # Calculating Bond Price\n",
    "    def present_value(self, x , n):\n",
    "        return x / (1 + self.market_rate)**n\n",
    "    \n",
    "    def calculate_price(self):\n",
    "        return self.present_value(self.principal, self.maturity)\n",
    "    \n",
    "if __name__ == \"__main__\":\n",
    "\n",
    "    p = int(input(\"Prinicpal Amount (Dollars): \"))\n",
    "    m = int(input(\"Time to Maturity (Years): \"))\n",
    "    r = int(input(\"Market Interest Rate (Percent): \"))\n",
    "\n",
    "    bond = ZeroCouponBonds(p, m, r) # Principal, maturity, market interest rate\n",
    "\n",
    "    print(\"Price of the Bond: $\" + str(round(bond.calculate_price(), 2)))"
   ]
  },
  {
   "cell_type": "markdown",
   "id": "d13a8fbd",
   "metadata": {},
   "source": [
    "## Coupon Bonds - Discrete Model"
   ]
  },
  {
   "cell_type": "code",
   "execution_count": 33,
   "id": "44d4e996",
   "metadata": {},
   "outputs": [
    {
     "name": "stdout",
     "output_type": "stream",
     "text": [
      "Prinicpal Amount (Dollars): 1000\n",
      "Bond Interest Rate (Percent): 10\n",
      "Time to Maturity (Years): 2\n",
      "Market Interest Rate (Percent): 4\n",
      "Price of the Bond: $1113.17\n"
     ]
    }
   ],
   "source": [
    "import numpy as np\n",
    "from scipy.optimize import newton\n",
    "\n",
    "class CouponBonds:\n",
    "    \n",
    "    def __init__(self, principal, interest_rate, maturity, market_rate):\n",
    "        self.principal = principal # Principal amount in dollars\n",
    "        self.interest_rate = interest_rate / 100 # Bond interest rate in percent\n",
    "        self.maturity = maturity # Time to maturity in years\n",
    "        self.market_rate = market_rate / 100 # Market interest rate in percent\n",
    "\n",
    "    def present_value(self, x, n):\n",
    "        return x / (1 + self.market_rate) ** n\n",
    "\n",
    "    def calculate_price(self):\n",
    "        price = 0\n",
    "        for t in range(1, self.maturity + 1):\n",
    "            price += self.present_value(self.principal * self.interest_rate, t)\n",
    "        price += self.present_value(self.principal, self.maturity)\n",
    "        return price\n",
    "\n",
    "if __name__ == \"__main__\":\n",
    "\n",
    "    p = int(input(\"Prinicpal Amount (Dollars): \"))\n",
    "    i = int(input(\"Bond Interest Rate (Percent): \"))\n",
    "    m = int(input(\"Time to Maturity (Years): \"))\n",
    "    r = int(input(\"Market Interest Rate (Percent): \"))\n",
    "\n",
    "    bond = CouponBonds(p, i, m, r) # Principal, bond interest rate, maturity, market rate\n",
    "\n",
    "    print(\"Price of the Bond: $\" + str(round(bond.calculate_price(), 2)))"
   ]
  },
  {
   "cell_type": "markdown",
   "id": "114d089e",
   "metadata": {},
   "source": [
    "## Coupon Bonds - Continuous Model"
   ]
  },
  {
   "cell_type": "code",
   "execution_count": null,
   "id": "fda6f60f",
   "metadata": {},
   "outputs": [],
   "source": [
    "import numpy as np\n",
    "from scipy.optimize import newton\n",
    "\n",
    "class CouponBonds:\n",
    "    \n",
    "    def __init__(self, principal, interest_rate, maturity, market_rate):\n",
    "        self.principal = principal # Principal amount in dollars\n",
    "        self.interest_rate = interest_rate / 100 # Bond interest rate in percent\n",
    "        self.maturity = maturity # Time to maturity in years\n",
    "        self.market_rate = market_rate / 100 # Market interest rate in percent\n",
    "\n",
    "    def present_value(self, x, n):\n",
    "        return x * exp(-self.market_rate*n)\n",
    "\n",
    "    def calculate_price(self):\n",
    "        price = 0\n",
    "        for t in range(1, self.maturity + 1):\n",
    "            price += self.present_value(self.principal * self.interest_rate, t)\n",
    "        price += self.present_value(self.principal, self.maturity)\n",
    "        return price\n",
    "\n",
    "if __name__ == \"__main__\":\n",
    "\n",
    "    p = int(input(\"Prinicpal Amount (Dollars): \"))\n",
    "    i = int(input(\"Bond Interest Rate (Percent): \"))\n",
    "    m = int(input(\"Time to Maturity (Years): \"))\n",
    "    r = int(input(\"Market Interest Rate (Percent): \"))\n",
    "\n",
    "    bond = CouponBonds(p, i, m, r) # Principal, bond interest rate, maturity, market rate\n",
    "\n",
    "    print(\"Price of the Bond: $\" + str(round(bond.calculate_price(), 2)))"
   ]
  }
 ],
 "metadata": {
  "kernelspec": {
   "display_name": "Python 3 (ipykernel)",
   "language": "python",
   "name": "python3"
  },
  "language_info": {
   "codemirror_mode": {
    "name": "ipython",
    "version": 3
   },
   "file_extension": ".py",
   "mimetype": "text/x-python",
   "name": "python",
   "nbconvert_exporter": "python",
   "pygments_lexer": "ipython3",
   "version": "3.9.13"
  }
 },
 "nbformat": 4,
 "nbformat_minor": 5
}
