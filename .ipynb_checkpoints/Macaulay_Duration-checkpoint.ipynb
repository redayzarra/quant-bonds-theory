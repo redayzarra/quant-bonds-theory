{
 "cells": [
  {
   "cell_type": "markdown",
   "id": "122c89a6",
   "metadata": {},
   "source": [
    "# Macaulay Duration - Bonds Theory"
   ]
  },
  {
   "cell_type": "markdown",
   "id": "befa51df",
   "metadata": {},
   "source": [
    "### by ReDay Zarra"
   ]
  },
  {
   "cell_type": "markdown",
   "id": "ca24e10a",
   "metadata": {},
   "source": [
    "**Macaulay Duration:** The measure of **how long it takes for the price of a bond to be repaid** by the cash flow generated from it. Essentially, the time it would take for an investor to recieve his initial investment **from periodic interest and principal payment**.\n",
    "\n",
    "**Zero-coupon bonds:** The Macaulay duration for zero-coupon bonds is the **same as the time to maturity** because that is the only time the investor gets paid.\n",
    "\n",
    "**Lead concept:** If we plot the bond price (V) to the yield to maturity (y) we can take the derivative of the curve at a given point in time and calculate the Macaulay duration. \n",
    "\n",
    "$$\n",
    "\\text{Macaulay Duration} = -\\frac{1}{V}\\frac{dV}{dy}\n",
    "$$\n",
    "\n",
    "**Interest rates:** Bonds and interest rates are negatively correlated, so **bonds with longer time to maturity (T) are more sensitive** to changes from the interest rates than shorter durations."
   ]
  },
  {
   "cell_type": "markdown",
   "id": "1505fae9",
   "metadata": {},
   "source": [
    "## What is the Macaulay duration used for?"
   ]
  },
  {
   "cell_type": "markdown",
   "id": "b4a3ad01",
   "metadata": {},
   "source": [
    "**Lead concept:** The Macaulay duration **defines how sensitive the bond price is** with respect to the small changes to the market interest rates.\n",
    "\n",
    "**Bullish:** Investors prefer bonds with **larger time to maturity when interest rates are expected to fall** because the value of the bonds increase. This allows investors to **lock in the higher interest rate bonds for a long period of time** while the current market intereest may be a lot lower.\n",
    "\n",
    "**Bearish:** Investors prefer bonds with **shorter time to maturity when interest rates are expected to rise** because the value of the bonds is **not as sensitive** to the small changes in interest rates. Bonds with shorter durations also provide higher flexibilty since investors can get their money back sooner. "
   ]
  }
 ],
 "metadata": {
  "kernelspec": {
   "display_name": "Python 3 (ipykernel)",
   "language": "python",
   "name": "python3"
  },
  "language_info": {
   "codemirror_mode": {
    "name": "ipython",
    "version": 3
   },
   "file_extension": ".py",
   "mimetype": "text/x-python",
   "name": "python",
   "nbconvert_exporter": "python",
   "pygments_lexer": "ipython3",
   "version": "3.9.13"
  }
 },
 "nbformat": 4,
 "nbformat_minor": 5
}
