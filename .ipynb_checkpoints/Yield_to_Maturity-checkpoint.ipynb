{
 "cells": [
  {
   "cell_type": "markdown",
   "id": "cf57b47d",
   "metadata": {},
   "source": [
    "# Yield to Maturity - Bonds Theory"
   ]
  },
  {
   "cell_type": "markdown",
   "id": "601169fb",
   "metadata": {},
   "source": [
    "### by ReDay Zarra"
   ]
  },
  {
   "cell_type": "markdown",
   "id": "6cfe3cce",
   "metadata": {},
   "source": [
    "**Yield:** Represents the return an investor makes from a bond. Essentially, how much **money the bond is generating**. We can calulate the yield by the equation:\n",
    "\n",
    "$$\n",
    "\\text{Yield} = \\frac{\\text{Annual Coupon}}{\\text{Price of Bond}}\n",
    "$$\n",
    "\n",
    "**Yield to Maturity:** Represents the **overall interest rate an investor earns** when they buy a bond at time (t) at a certain market price (V). We assume that the bond is held until the maturity date and all payments are made on schedule.\n",
    "\n",
    "**Lead concept:** We can calculate the yield maturity by using the equation below and solving for the yield (y). The price of the bond in the present (V) is calculated by using the continuous model where we calculate the present value for the coupons plus the present value for the principal amount. The coupon payments (c) is multiplied with the exp of the yield maturity (y) times time intervals or annually (ti - t). The present value of the principal amount is calculated by multiplying the principal amount (P) by the exp of the yield maturity and total time (T - t). \n",
    "\n",
    "$$\n",
    "\\text{Price of Bond} = \\sum_{i=1}^{n} c_i e^{-y(t_i - t)} + Pe^{-y(T-t)}\n",
    "$$"
   ]
  },
  {
   "cell_type": "markdown",
   "id": "0b46a9e0",
   "metadata": {},
   "source": [
    "## What is the yield curve?"
   ]
  },
  {
   "cell_type": "markdown",
   "id": "50dca1e4",
   "metadata": {},
   "source": [
    "**Lead concept:** Long-term bonds **pay investors higher interest rates** meaning investors expect **more yield in return** for loaning their money for a longer period of time. \n",
    "\n",
    "**Risks:** Long-term bonds pose **more risks than short-term bonds** because the investors could potentially find a better investment or external **factors may impact the yield** of the bond (i.e. market interest rates)"
   ]
  }
 ],
 "metadata": {
  "kernelspec": {
   "display_name": "Python 3 (ipykernel)",
   "language": "python",
   "name": "python3"
  },
  "language_info": {
   "codemirror_mode": {
    "name": "ipython",
    "version": 3
   },
   "file_extension": ".py",
   "mimetype": "text/x-python",
   "name": "python",
   "nbconvert_exporter": "python",
   "pygments_lexer": "ipython3",
   "version": "3.9.13"
  }
 },
 "nbformat": 4,
 "nbformat_minor": 5
}
